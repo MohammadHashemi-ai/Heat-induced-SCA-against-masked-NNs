{
 "cells": [
  {
   "cell_type": "code",
   "execution_count": null,
   "metadata": {},
   "outputs": [],
   "source": [
    "import matplotlib.pyplot as plt\n",
    "from scipy.stats import ttest_ind\n",
    "import numpy as np\n",
    "import pandas as pd\n",
    "\n",
    "#Create project, provide directory for trace save\n",
    "#initialize the lists\n",
    "fixed_project = []\n",
    "random_project = []\n",
    "t=[]\n",
    "\n",
    "#filename to read the pickle files\n",
    "pickle_name = \"fb_100k_reg_comp_0\" #Change the name to the pickle file name\n",
    "\n",
    "#Creating file names for saving results\n",
    "name =\"100k_reg_attack_test\" \n",
    "namefile = name +'.dat'\n",
    "figfile = name +'.png'\n",
    "\n",
    "#Deciding parameter for the trace set\n",
    "#Numpoint is the number of samples you want to read per trace\n",
    "numpoint_start =0\n",
    "numpoint_end =203500 #set this to 2035000 for leaky design\n",
    "numpoint = numpoint_end - numpoint_start\n",
    "\n",
    "#Number of traces you want to read from the set\n",
    "start_trace =0\n",
    "end_trace = 20000\n",
    "numtraces = end_trace - start_trace \n",
    "\n",
    "#Open pickle file from here\n",
    "result_read =pd.read_pickle(pickle_name + '.pkl', compression='bz2')\n",
    "traces = result_read.values.tolist() #convert the pd to list for further processing\n",
    "for i, trace in enumerate(traces[start_trace:end_trace]):\n",
    "    if(i%2):\n",
    "        fixed_project.append(trace[numpoint_start:numpoint_end])\n",
    "    else :\n",
    "        random_project.append(trace[numpoint_start:numpoint_end])\n",
    "\n",
    "#Do the TVLA test for fixed vs random groups\n",
    "t = ttest_ind(fixed_project, random_project, axis=0, equal_var=False)[0]\n",
    "\n",
    "#Save the t-test result to a dat file \n",
    "# t.tofile(namefile) #uncomment this line to save the result to a file\n",
    "\n",
    "#plot the full t-test\n",
    "e1 = np.zeros(numpoint) #no. of samples per trace\n",
    "e1.fill(4.5)\n",
    "e2 = np.zeros(numpoint)\n",
    "e2.fill(-4.5)\n",
    "\n",
    "plt.plot(t,'black')\n",
    "plt.plot(e1,'red')\n",
    "plt.plot(e2,'red')\n",
    "plt.legend(['Test 1',\"LIMIT\"])\n",
    "plt.ylim([-10, 10])\n",
    "plt.xlabel(\"Time(CC)\")\n",
    "plt.ylabel(\"T-score\")\n",
    "# plt.savefig(figfile) #uncomment to save the figure\n",
    "plt.show()\n",
    "\n"
   ]
  }
 ],
 "metadata": {
  "kernelspec": {
   "display_name": "base",
   "language": "python",
   "name": "python3"
  },
  "language_info": {
   "codemirror_mode": {
    "name": "ipython",
    "version": 3
   },
   "file_extension": ".py",
   "mimetype": "text/x-python",
   "name": "python",
   "nbconvert_exporter": "python",
   "pygments_lexer": "ipython3",
   "version": "3.9.12"
  },
  "orig_nbformat": 4,
  "vscode": {
   "interpreter": {
    "hash": "ad2bdc8ecc057115af97d19610ffacc2b4e99fae6737bb82f5d7fb13d2f2c186"
   }
  }
 },
 "nbformat": 4,
 "nbformat_minor": 2
}
